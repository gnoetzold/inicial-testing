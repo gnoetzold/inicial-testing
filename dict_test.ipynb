{
  "nbformat": 4,
  "nbformat_minor": 0,
  "metadata": {
    "colab": {
      "provenance": [],
      "authorship_tag": "ABX9TyNi/5ujZJs7XZSKah49+Qn2",
      "include_colab_link": true
    },
    "kernelspec": {
      "name": "python3",
      "display_name": "Python 3"
    },
    "language_info": {
      "name": "python"
    }
  },
  "cells": [
    {
      "cell_type": "markdown",
      "metadata": {
        "id": "view-in-github",
        "colab_type": "text"
      },
      "source": [
        "<a href=\"https://colab.research.google.com/github/gnoetzold/inicial-testing/blob/main/dict_test.ipynb\" target=\"_parent\"><img src=\"https://colab.research.google.com/assets/colab-badge.svg\" alt=\"Open In Colab\"/></a>"
      ]
    },
    {
      "cell_type": "code",
      "execution_count": 3,
      "metadata": {
        "colab": {
          "base_uri": "https://localhost:8080/"
        },
        "id": "zbYtmRx4VCHF",
        "outputId": "ed57c966-de47-4e86-b196-b92793a98f20"
      },
      "outputs": [
        {
          "output_type": "stream",
          "name": "stdout",
          "text": [
            "{'treinamento': 'Scrum', 'moedas': 30, 'pedidos': 2}\n",
            "{'treinamento': 'Data Science', 'moedas': 40, 'pedidos': 6}\n",
            "{'treinamento': 'Gestão de Projetos', 'moedas': 50, 'pedidos': 5}\n",
            "{'treinamento': 'Marketing', 'moedas': 30, 'pedidos': 3}\n",
            "{'treinamento': 'Cloud', 'moedas': 20, 'pedidos': 1}\n",
            "{'treinamento': 'Blockchain', 'moedas': 10, 'pedidos': 0}\n",
            "{'treinamento': 'Python', 'moedas': 30, 'pedidos': 4}\n"
          ]
        }
      ],
      "source": [
        "treinamentos = [{'treinamento':'Scrum','moedas':30}, \n",
        "                {'treinamento':'Data Science','moedas':40}, \n",
        "                {'treinamento':'Gestão de Projetos','moedas':50}, \n",
        "                {'treinamento':'Marketing','moedas':30}, \n",
        "                {'treinamento':'Cloud','moedas':20}, \n",
        "                {'treinamento':'Blockchain','moedas':10}, \n",
        "                {'treinamento':'Python','moedas':30}] \n",
        "\n",
        "pedidos = ['Scrum','Data Science','Gestão de Projetos','Marketing','Cloud','Python','Python','Python', 'Scrum','Data Science','Gestão de Projetos','Marketing','Data Science','Gestão de Projetos', 'Python','Marketing','Data Science','Gestão de Projetos','Data Science','Gestão de Projetos','Data Science']\n",
        "\n",
        "for dicio in treinamentos:\n",
        "  dicio['pedidos'] = pedidos.count(dicio['treinamento'])\n",
        "  print(dicio)"
      ]
    },
    {
      "cell_type": "code",
      "source": [],
      "metadata": {
        "id": "2uc0srwYI0D6"
      },
      "execution_count": null,
      "outputs": []
    }
  ]
}